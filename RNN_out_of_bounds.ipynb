{
 "cells": [
  {
   "cell_type": "code",
   "execution_count": null,
   "metadata": {},
   "outputs": [],
   "source": [
    "import scipy\n",
    "import torch\n",
    "import numpy as np\n",
    "import matplotlib.pyplot as plt\n",
    "\n",
    "from tqdm import tqdm\n",
    "from models import RNNGC, FFGC\n",
    "from dataset import DatasetMaker\n",
    "from plotting_functions import multiimshow"
   ]
  },
  {
   "cell_type": "code",
   "execution_count": 2,
   "metadata": {},
   "outputs": [],
   "source": [
    "# use for both; sets FF size too\n",
    "samples = 10000\n",
    "res = 128\n",
    "\n",
    "timesteps = 1000\n",
    "# sneaky to get outside box\n",
    "dataset = DatasetMaker(box_size=1e6)\n",
    "r, v = dataset.generate_data(samples, timesteps)\n",
    "r0 = torch.rand(size = (samples, 2))*4*np.pi - 2*np.pi\n",
    "r = r - r[:,0,None] + r0[:,None] # shift to zero ,move to random locations in box\n",
    "lim = np.amax(np.abs(r.numpy()))\n",
    "\n",
    "if trajectories := True:\n",
    "    start = 0\n",
    "    stop = -1\n",
    "    model = RNNGC()\n",
    "    model = model.load(\"./saved-models/RNNGC.pkl\")\n",
    "    g = model((r[:,0], v)) #\n",
    "    r = r.detach().numpy()[:,start:stop]\n",
    "    g = g.detach().numpy()[:,start:stop]\n",
    "    ratemaps = scipy.stats.binned_statistic_2d(r[...,0].ravel(), r[...,1].ravel(), g.reshape(-1, g.shape[-1]).T, bins = res)[0]\n",
    "else:\n",
    "    model = FFGC()\n",
    "    model = model.load(\"./saved-models/FFGC_100000.pkl\")\n",
    "    x = np.linspace(-lim, lim, res)\n",
    "    y = np.copy(x)\n",
    "    xx, yy = np.meshgrid(x,y)\n",
    "    r = np.stack((xx.ravel(), yy.ravel()), axis =-1)\n",
    "    g = model(torch.tensor(r.astype(\"float32\"))).detach().numpy()\n",
    "    print(g.shape)\n",
    "    ratemaps = g.reshape(res, res, -1).T\n",
    "\n",
    "model.alpha, model.sigma"
   ]
  },
  {
   "cell_type": "code",
   "execution_count": null,
   "metadata": {},
   "outputs": [],
   "source": [
    "if trajectories:\n",
    "    for i in range(1000):\n",
    "        plt.plot(r[i,:,0], r[i,:,1])\n",
    "    plt.axis(\"equal\")"
   ]
  },
  {
   "cell_type": "code",
   "execution_count": null,
   "metadata": {},
   "outputs": [],
   "source": [
    "fig, axs, range = multiimshow(ratemaps[:49], figsize = (10,10), extent = [-lim, lim, -lim, lim]);\n",
    "for ax in axs:\n",
    "    ax.plot(np.array([-1,-1, 1, 1, -1])*2*np.pi, np.array([-1, 1, 1, -1, -1])*2*np.pi, \"w\")"
   ]
  },
  {
   "cell_type": "code",
   "execution_count": null,
   "metadata": {},
   "outputs": [],
   "source": []
  }
 ],
 "metadata": {
  "kernelspec": {
   "display_name": "ml",
   "language": "python",
   "name": "python3"
  },
  "language_info": {
   "codemirror_mode": {
    "name": "ipython",
    "version": 3
   },
   "file_extension": ".py",
   "mimetype": "text/x-python",
   "name": "python",
   "nbconvert_exporter": "python",
   "pygments_lexer": "ipython3",
   "version": "3.9.16"
  }
 },
 "nbformat": 4,
 "nbformat_minor": 2
}
