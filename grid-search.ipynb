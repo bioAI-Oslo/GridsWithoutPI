{
 "cells": [
  {
   "cell_type": "code",
   "execution_count": 32,
   "metadata": {},
   "outputs": [],
   "source": [
    "import torch\n",
    "import numpy as np \n",
    "import matplotlib.pyplot as plt\n",
    "import spatial_maps as sm\n",
    "from scipy.integrate import cumtrapz\n",
    "\n",
    "from tqdm import tqdm\n",
    "from models import FFGC, RNNGC\n",
    "from plotting_functions import *\n",
    "from dataset import DatasetMaker\n",
    "\n",
    "import pandas as pd\n",
    "import seaborn as sns\n",
    "\n",
    "import scipy"
   ]
  },
  {
   "cell_type": "code",
   "execution_count": 30,
   "metadata": {},
   "outputs": [],
   "source": [
    "plt.style.use(\"project_style.mplstyle\")"
   ]
  },
  {
   "cell_type": "code",
   "execution_count": 2,
   "metadata": {},
   "outputs": [],
   "source": [
    "## Training parameters\n",
    "train_steps = 50000\n",
    "timesteps = 10\n",
    "bs = 64 # batch size\n",
    "ng = 256 # no. of recurrent units"
   ]
  },
  {
   "cell_type": "code",
   "execution_count": 3,
   "metadata": {},
   "outputs": [],
   "source": [
    "device = torch.device('cuda' if torch.cuda.is_available() else 'cpu')"
   ]
  },
  {
   "cell_type": "code",
   "execution_count": 4,
   "metadata": {},
   "outputs": [
    {
     "data": {
      "text/plain": [
       "array([0.01, 0.08, 0.15, 0.22, 0.29, 0.36, 0.43, 0.5 , 0.57, 0.64, 0.71,\n",
       "       0.78, 0.85, 0.92, 0.99])"
      ]
     },
     "execution_count": 4,
     "metadata": {},
     "output_type": "execute_result"
    },
    {
     "data": {
      "image/png": "[encoded data removed]",
      "text/plain": [
       "<Figure size 640x480 with 1 Axes>"
      ]
     },
     "metadata": {},
     "output_type": "display_data"
    }
   ],
   "source": [
    "# Get even distribution from distribution function\n",
    "\n",
    "def inverse_transform_sampling(prob_density_func, num_samples):\n",
    "    # Create an array across the interval [0, 1]\n",
    "    x = np.linspace(0.01, 0.99, 10000)\n",
    "\n",
    "    # Calculate the cumulative distribution function (CDF)\n",
    "    cdf = cumtrapz(prob_density_func(x), x)\n",
    "    cdf = np.insert(cdf, 0, 0)\n",
    "\n",
    "    # Use the CDF to get the inverse CDF\n",
    "    inverse_cdf = np.interp(np.linspace(0, cdf[-1], num_samples), cdf, x)\n",
    "\n",
    "    return inverse_cdf\n",
    "\n",
    "# alphas = inverse_transform_sampling(lambda x: 1/(x*(1-x)), 100)\n",
    "# alphas = inverse_transform_sampling(lambda x: (1-x)/x + x/(1-x), 32)\n",
    "alphas = inverse_transform_sampling(lambda x: np.ones(len(x)), 15)\n",
    "plt.hist(alphas, bins = 60)\n",
    "alphas"
   ]
  },
  {
   "cell_type": "code",
   "execution_count": 5,
   "metadata": {},
   "outputs": [
    {
     "name": "stdout",
     "output_type": "stream",
     "text": [
      "Alpha: 0.01\n",
      "Sigma: 0.4\n"
     ]
    },
    {
     "name": "stderr",
     "output_type": "stream",
     "text": [
      "c:\\Users\\kingt\\anaconda3\\envs\\torch2\\lib\\site-packages\\tqdm\\auto.py:21: TqdmWarning: IProgress not found. Please update jupyter and ipywidgets. See https://ipywidgets.readthedocs.io/en/stable/user_install.html\n",
      "  from .autonotebook import tqdm as notebook_tqdm\n",
      "100%|██████████| 50000/50000 [01:10<00:00, 710.08it/s]\n",
      "c:\\Users\\kingt\\anaconda3\\envs\\torch2\\lib\\site-packages\\spatial_maps\\tools.py:41: RuntimeWarning: invalid value encountered in true_divide\n",
      "  arr1 = (arr1 - np.mean(a_)) / (np.std(a_) * len(a_))\n",
      "c:\\Users\\kingt\\anaconda3\\envs\\torch2\\lib\\site-packages\\spatial_maps\\tools.py:42: RuntimeWarning: invalid value encountered in true_divide\n",
      "  arr2 = (arr2 - np.mean(v_)) / np.std(v_)\n",
      "c:\\Users\\kingt\\anaconda3\\envs\\torch2\\lib\\site-packages\\numpy\\core\\fromnumeric.py:86: UserWarning: Warning: converting a masked element to nan.\n",
      "  return ufunc.reduce(obj, axis, dtype, out, **passkwargs)\n",
      "c:\\Users\\kingt\\anaconda3\\envs\\torch2\\lib\\site-packages\\numpy\\core\\fromnumeric.py:3474: RuntimeWarning: Mean of empty slice.\n",
      "  return _methods._mean(a, axis=axis, dtype=dtype,\n",
      "c:\\Users\\kingt\\anaconda3\\envs\\torch2\\lib\\site-packages\\numpy\\core\\_methods.py:189: RuntimeWarning: invalid value encountered in double_scalars\n",
      "  ret = ret.dtype.type(ret / rcount)\n"
     ]
    },
    {
     "name": "stdout",
     "output_type": "stream",
     "text": [
      "Alpha: 0.08\n",
      "Sigma: 0.4\n"
     ]
    },
    {
     "name": "stderr",
     "output_type": "stream",
     "text": [
      "100%|██████████| 50000/50000 [01:09<00:00, 719.73it/s]\n"
     ]
    },
    {
     "name": "stdout",
     "output_type": "stream",
     "text": [
      "Alpha: 0.15\n",
      "Sigma: 0.4\n"
     ]
    },
    {
     "name": "stderr",
     "output_type": "stream",
     "text": [
      "100%|██████████| 50000/50000 [01:08<00:00, 725.84it/s]\n"
     ]
    },
    {
     "name": "stdout",
     "output_type": "stream",
     "text": [
      "Alpha: 0.21999999999999997\n",
      "Sigma: 0.4\n"
     ]
    },
    {
     "name": "stderr",
     "output_type": "stream",
     "text": [
      "100%|██████████| 50000/50000 [01:08<00:00, 727.53it/s]\n"
     ]
    },
    {
     "name": "stdout",
     "output_type": "stream",
     "text": [
      "Alpha: 0.29\n",
      "Sigma: 0.4\n"
     ]
    },
    {
     "name": "stderr",
     "output_type": "stream",
     "text": [
      "100%|██████████| 50000/50000 [01:10<00:00, 709.04it/s]\n"
     ]
    },
    {
     "name": "stdout",
     "output_type": "stream",
     "text": [
      "Alpha: 0.36\n",
      "Sigma: 0.4\n"
     ]
    },
    {
     "name": "stderr",
     "output_type": "stream",
     "text": [
      "100%|██████████| 50000/50000 [01:08<00:00, 728.66it/s]\n"
     ]
    },
    {
     "name": "stdout",
     "output_type": "stream",
     "text": [
      "Alpha: 0.42999999999999994\n",
      "Sigma: 0.4\n"
     ]
    },
    {
     "name": "stderr",
     "output_type": "stream",
     "text": [
      "100%|██████████| 50000/50000 [01:08<00:00, 725.34it/s]\n"
     ]
    },
    {
     "name": "stdout",
     "output_type": "stream",
     "text": [
      "Alpha: 0.49999999999999994\n",
      "Sigma: 0.4\n"
     ]
    },
    {
     "name": "stderr",
     "output_type": "stream",
     "text": [
      "100%|██████████| 50000/50000 [01:08<00:00, 726.88it/s]\n"
     ]
    },
    {
     "name": "stdout",
     "output_type": "stream",
     "text": [
      "Alpha: 0.57\n",
      "Sigma: 0.4\n"
     ]
    },
    {
     "name": "stderr",
     "output_type": "stream",
     "text": [
      "100%|██████████| 50000/50000 [01:08<00:00, 727.09it/s]\n"
     ]
    },
    {
     "name": "stdout",
     "output_type": "stream",
     "text": [
      "Alpha: 0.6399999999999999\n",
      "Sigma: 0.4\n"
     ]
    },
    {
     "name": "stderr",
     "output_type": "stream",
     "text": [
      "100%|██████████| 50000/50000 [01:09<00:00, 723.14it/s]\n"
     ]
    },
    {
     "name": "stdout",
     "output_type": "stream",
     "text": [
      "Alpha: 0.71\n",
      "Sigma: 0.4\n"
     ]
    },
    {
     "name": "stderr",
     "output_type": "stream",
     "text": [
      "100%|██████████| 50000/50000 [01:08<00:00, 728.20it/s]\n"
     ]
    },
    {
     "name": "stdout",
     "output_type": "stream",
     "text": [
      "Alpha: 0.7799999999999999\n",
      "Sigma: 0.4\n"
     ]
    },
    {
     "name": "stderr",
     "output_type": "stream",
     "text": [
      "100%|██████████| 50000/50000 [01:08<00:00, 725.91it/s]\n"
     ]
    },
    {
     "name": "stdout",
     "output_type": "stream",
     "text": [
      "Alpha: 0.8499999999999999\n",
      "Sigma: 0.4\n"
     ]
    },
    {
     "name": "stderr",
     "output_type": "stream",
     "text": [
      "100%|██████████| 50000/50000 [01:08<00:00, 732.57it/s]\n"
     ]
    },
    {
     "name": "stdout",
     "output_type": "stream",
     "text": [
      "Alpha: 0.9199999999999999\n",
      "Sigma: 0.4\n"
     ]
    },
    {
     "name": "stderr",
     "output_type": "stream",
     "text": [
      "100%|██████████| 50000/50000 [01:08<00:00, 729.59it/s]\n"
     ]
    },
    {
     "name": "stdout",
     "output_type": "stream",
     "text": [
      "Alpha: 0.99\n",
      "Sigma: 0.4\n"
     ]
    },
    {
     "name": "stderr",
     "output_type": "stream",
     "text": [
      "100%|██████████| 50000/50000 [01:08<00:00, 726.90it/s]\n"
     ]
    },
    {
     "name": "stdout",
     "output_type": "stream",
     "text": [
      "Alpha: 0.01\n",
      "Sigma: 0.7\n"
     ]
    },
    {
     "name": "stderr",
     "output_type": "stream",
     "text": [
      "100%|██████████| 50000/50000 [01:08<00:00, 728.68it/s]\n"
     ]
    },
    {
     "name": "stdout",
     "output_type": "stream",
     "text": [
      "Alpha: 0.08\n",
      "Sigma: 0.7\n"
     ]
    },
    {
     "name": "stderr",
     "output_type": "stream",
     "text": [
      "100%|██████████| 50000/50000 [01:09<00:00, 723.98it/s]\n"
     ]
    },
    {
     "name": "stdout",
     "output_type": "stream",
     "text": [
      "Alpha: 0.15\n",
      "Sigma: 0.7\n"
     ]
    },
    {
     "name": "stderr",
     "output_type": "stream",
     "text": [
      "100%|██████████| 50000/50000 [01:08<00:00, 726.24it/s]\n"
     ]
    },
    {
     "name": "stdout",
     "output_type": "stream",
     "text": [
      "Alpha: 0.21999999999999997\n",
      "Sigma: 0.7\n"
     ]
    },
    {
     "name": "stderr",
     "output_type": "stream",
     "text": [
      "100%|██████████| 50000/50000 [01:08<00:00, 725.75it/s]\n"
     ]
    },
    {
     "name": "stdout",
     "output_type": "stream",
     "text": [
      "Alpha: 0.29\n",
      "Sigma: 0.7\n"
     ]
    },
    {
     "name": "stderr",
     "output_type": "stream",
     "text": [
      "100%|██████████| 50000/50000 [01:11<00:00, 698.39it/s]\n"
     ]
    },
    {
     "name": "stdout",
     "output_type": "stream",
     "text": [
      "Alpha: 0.36\n",
      "Sigma: 0.7\n"
     ]
    },
    {
     "name": "stderr",
     "output_type": "stream",
     "text": [
      "100%|██████████| 50000/50000 [01:09<00:00, 722.85it/s]\n"
     ]
    },
    {
     "name": "stdout",
     "output_type": "stream",
     "text": [
      "Alpha: 0.42999999999999994\n",
      "Sigma: 0.7\n"
     ]
    },
    {
     "name": "stderr",
     "output_type": "stream",
     "text": [
      "100%|██████████| 50000/50000 [01:09<00:00, 724.45it/s]\n"
     ]
    },
    {
     "name": "stdout",
     "output_type": "stream",
     "text": [
      "Alpha: 0.49999999999999994\n",
      "Sigma: 0.7\n"
     ]
    },
    {
     "name": "stderr",
     "output_type": "stream",
     "text": [
      "100%|██████████| 50000/50000 [01:09<00:00, 724.05it/s]\n"
     ]
    },
    {
     "name": "stdout",
     "output_type": "stream",
     "text": [
      "Alpha: 0.57\n",
      "Sigma: 0.7\n"
     ]
    },
    {
     "name": "stderr",
     "output_type": "stream",
     "text": [
      "100%|██████████| 50000/50000 [01:08<00:00, 726.31it/s]\n"
     ]
    },
    {
     "name": "stdout",
     "output_type": "stream",
     "text": [
      "Alpha: 0.6399999999999999\n",
      "Sigma: 0.7\n"
     ]
    },
    {
     "name": "stderr",
     "output_type": "stream",
     "text": [
      "100%|██████████| 50000/50000 [01:09<00:00, 723.40it/s]\n"
     ]
    },
    {
     "name": "stdout",
     "output_type": "stream",
     "text": [
      "Alpha: 0.71\n",
      "Sigma: 0.7\n"
     ]
    },
    {
     "name": "stderr",
     "output_type": "stream",
     "text": [
      "100%|██████████| 50000/50000 [01:08<00:00, 726.99it/s]\n"
     ]
    },
    {
     "name": "stdout",
     "output_type": "stream",
     "text": [
      "Alpha: 0.7799999999999999\n",
      "Sigma: 0.7\n"
     ]
    },
    {
     "name": "stderr",
     "output_type": "stream",
     "text": [
      "100%|██████████| 50000/50000 [01:09<00:00, 721.72it/s]\n"
     ]
    },
    {
     "name": "stdout",
     "output_type": "stream",
     "text": [
      "Alpha: 0.8499999999999999\n",
      "Sigma: 0.7\n"
     ]
    },
    {
     "name": "stderr",
     "output_type": "stream",
     "text": [
      "100%|██████████| 50000/50000 [01:08<00:00, 727.45it/s]\n"
     ]
    },
    {
     "name": "stdout",
     "output_type": "stream",
     "text": [
      "Alpha: 0.9199999999999999\n",
      "Sigma: 0.7\n"
     ]
    },
    {
     "name": "stderr",
     "output_type": "stream",
     "text": [
      "100%|██████████| 50000/50000 [01:08<00:00, 725.31it/s]\n"
     ]
    },
    {
     "name": "stdout",
     "output_type": "stream",
     "text": [
      "Alpha: 0.99\n",
      "Sigma: 0.7\n"
     ]
    },
    {
     "name": "stderr",
     "output_type": "stream",
     "text": [
      "100%|██████████| 50000/50000 [01:08<00:00, 733.04it/s]\n"
     ]
    },
    {
     "name": "stdout",
     "output_type": "stream",
     "text": [
      "Alpha: 0.01\n",
      "Sigma: 1.0\n"
     ]
    },
    {
     "name": "stderr",
     "output_type": "stream",
     "text": [
      "100%|██████████| 50000/50000 [01:08<00:00, 730.71it/s]\n"
     ]
    },
    {
     "name": "stdout",
     "output_type": "stream",
     "text": [
      "Alpha: 0.08\n",
      "Sigma: 1.0\n"
     ]
    },
    {
     "name": "stderr",
     "output_type": "stream",
     "text": [
      "100%|██████████| 50000/50000 [01:08<00:00, 726.28it/s]\n"
     ]
    },
    {
     "name": "stdout",
     "output_type": "stream",
     "text": [
      "Alpha: 0.15\n",
      "Sigma: 1.0\n"
     ]
    },
    {
     "name": "stderr",
     "output_type": "stream",
     "text": [
      "100%|██████████| 50000/50000 [01:08<00:00, 731.44it/s]\n"
     ]
    },
    {
     "name": "stdout",
     "output_type": "stream",
     "text": [
      "Alpha: 0.21999999999999997\n",
      "Sigma: 1.0\n"
     ]
    },
    {
     "name": "stderr",
     "output_type": "stream",
     "text": [
      "100%|██████████| 50000/50000 [01:08<00:00, 727.81it/s]\n"
     ]
    },
    {
     "name": "stdout",
     "output_type": "stream",
     "text": [
      "Alpha: 0.29\n",
      "Sigma: 1.0\n"
     ]
    },
    {
     "name": "stderr",
     "output_type": "stream",
     "text": [
      "100%|██████████| 50000/50000 [01:08<00:00, 733.17it/s]\n"
     ]
    },
    {
     "name": "stdout",
     "output_type": "stream",
     "text": [
      "Alpha: 0.36\n",
      "Sigma: 1.0\n"
     ]
    },
    {
     "name": "stderr",
     "output_type": "stream",
     "text": [
      "100%|██████████| 50000/50000 [01:08<00:00, 727.36it/s]\n"
     ]
    },
    {
     "name": "stdout",
     "output_type": "stream",
     "text": [
      "Alpha: 0.42999999999999994\n",
      "Sigma: 1.0\n"
     ]
    },
    {
     "name": "stderr",
     "output_type": "stream",
     "text": [
      "100%|██████████| 50000/50000 [01:08<00:00, 726.37it/s]\n"
     ]
    },
    {
     "name": "stdout",
     "output_type": "stream",
     "text": [
      "Alpha: 0.49999999999999994\n",
      "Sigma: 1.0\n"
     ]
    },
    {
     "name": "stderr",
     "output_type": "stream",
     "text": [
      "100%|██████████| 50000/50000 [01:08<00:00, 724.79it/s]\n"
     ]
    },
    {
     "name": "stdout",
     "output_type": "stream",
     "text": [
      "Alpha: 0.57\n",
      "Sigma: 1.0\n"
     ]
    },
    {
     "name": "stderr",
     "output_type": "stream",
     "text": [
      "100%|██████████| 50000/50000 [01:09<00:00, 720.42it/s]\n"
     ]
    },
    {
     "name": "stdout",
     "output_type": "stream",
     "text": [
      "Alpha: 0.6399999999999999\n",
      "Sigma: 1.0\n"
     ]
    },
    {
     "name": "stderr",
     "output_type": "stream",
     "text": [
      "100%|██████████| 50000/50000 [01:07<00:00, 736.57it/s]\n"
     ]
    },
    {
     "name": "stdout",
     "output_type": "stream",
     "text": [
      "Alpha: 0.71\n",
      "Sigma: 1.0\n"
     ]
    },
    {
     "name": "stderr",
     "output_type": "stream",
     "text": [
      "100%|██████████| 50000/50000 [01:08<00:00, 731.30it/s]\n"
     ]
    },
    {
     "name": "stdout",
     "output_type": "stream",
     "text": [
      "Alpha: 0.7799999999999999\n",
      "Sigma: 1.0\n"
     ]
    },
    {
     "name": "stderr",
     "output_type": "stream",
     "text": [
      "100%|██████████| 50000/50000 [01:07<00:00, 737.96it/s]\n"
     ]
    },
    {
     "name": "stdout",
     "output_type": "stream",
     "text": [
      "Alpha: 0.8499999999999999\n",
      "Sigma: 1.0\n"
     ]
    },
    {
     "name": "stderr",
     "output_type": "stream",
     "text": [
      "100%|██████████| 50000/50000 [01:08<00:00, 732.00it/s]\n"
     ]
    },
    {
     "name": "stdout",
     "output_type": "stream",
     "text": [
      "Alpha: 0.9199999999999999\n",
      "Sigma: 1.0\n"
     ]
    },
    {
     "name": "stderr",
     "output_type": "stream",
     "text": [
      "100%|██████████| 50000/50000 [01:08<00:00, 732.85it/s]\n"
     ]
    },
    {
     "name": "stdout",
     "output_type": "stream",
     "text": [
      "Alpha: 0.99\n",
      "Sigma: 1.0\n"
     ]
    },
    {
     "name": "stderr",
     "output_type": "stream",
     "text": [
      "100%|██████████| 50000/50000 [01:08<00:00, 732.79it/s]\n"
     ]
    },
    {
     "name": "stdout",
     "output_type": "stream",
     "text": [
      "Alpha: 0.01\n",
      "Sigma: 1.2\n"
     ]
    },
    {
     "name": "stderr",
     "output_type": "stream",
     "text": [
      "100%|██████████| 50000/50000 [01:08<00:00, 734.44it/s]\n"
     ]
    },
    {
     "name": "stdout",
     "output_type": "stream",
     "text": [
      "Alpha: 0.08\n",
      "Sigma: 1.2\n"
     ]
    },
    {
     "name": "stderr",
     "output_type": "stream",
     "text": [
      "100%|██████████| 50000/50000 [01:07<00:00, 738.75it/s]\n"
     ]
    },
    {
     "name": "stdout",
     "output_type": "stream",
     "text": [
      "Alpha: 0.15\n",
      "Sigma: 1.2\n"
     ]
    },
    {
     "name": "stderr",
     "output_type": "stream",
     "text": [
      "100%|██████████| 50000/50000 [01:07<00:00, 735.40it/s]\n"
     ]
    },
    {
     "name": "stdout",
     "output_type": "stream",
     "text": [
      "Alpha: 0.21999999999999997\n",
      "Sigma: 1.2\n"
     ]
    },
    {
     "name": "stderr",
     "output_type": "stream",
     "text": [
      "100%|██████████| 50000/50000 [01:07<00:00, 736.56it/s]\n"
     ]
    },
    {
     "name": "stdout",
     "output_type": "stream",
     "text": [
      "Alpha: 0.29\n",
      "Sigma: 1.2\n"
     ]
    },
    {
     "name": "stderr",
     "output_type": "stream",
     "text": [
      "100%|██████████| 50000/50000 [01:08<00:00, 733.67it/s]\n"
     ]
    },
    {
     "name": "stdout",
     "output_type": "stream",
     "text": [
      "Alpha: 0.36\n",
      "Sigma: 1.2\n"
     ]
    },
    {
     "name": "stderr",
     "output_type": "stream",
     "text": [
      "100%|██████████| 50000/50000 [01:08<00:00, 734.55it/s]\n"
     ]
    },
    {
     "name": "stdout",
     "output_type": "stream",
     "text": [
      "Alpha: 0.42999999999999994\n",
      "Sigma: 1.2\n"
     ]
    },
    {
     "name": "stderr",
     "output_type": "stream",
     "text": [
      "100%|██████████| 50000/50000 [01:07<00:00, 738.51it/s]\n"
     ]
    },
    {
     "name": "stdout",
     "output_type": "stream",
     "text": [
      "Alpha: 0.49999999999999994\n",
      "Sigma: 1.2\n"
     ]
    },
    {
     "name": "stderr",
     "output_type": "stream",
     "text": [
      "100%|██████████| 50000/50000 [01:08<00:00, 734.05it/s]\n"
     ]
    },
    {
     "name": "stdout",
     "output_type": "stream",
     "text": [
      "Alpha: 0.57\n",
      "Sigma: 1.2\n"
     ]
    },
    {
     "name": "stderr",
     "output_type": "stream",
     "text": [
      "100%|██████████| 50000/50000 [01:07<00:00, 735.57it/s]\n"
     ]
    },
    {
     "name": "stdout",
     "output_type": "stream",
     "text": [
      "Alpha: 0.6399999999999999\n",
      "Sigma: 1.2\n"
     ]
    },
    {
     "name": "stderr",
     "output_type": "stream",
     "text": [
      "100%|██████████| 50000/50000 [01:08<00:00, 730.41it/s]\n"
     ]
    },
    {
     "name": "stdout",
     "output_type": "stream",
     "text": [
      "Alpha: 0.71\n",
      "Sigma: 1.2\n"
     ]
    },
    {
     "name": "stderr",
     "output_type": "stream",
     "text": [
      "100%|██████████| 50000/50000 [01:07<00:00, 738.16it/s]\n"
     ]
    },
    {
     "name": "stdout",
     "output_type": "stream",
     "text": [
      "Alpha: 0.7799999999999999\n",
      "Sigma: 1.2\n"
     ]
    },
    {
     "name": "stderr",
     "output_type": "stream",
     "text": [
      "100%|██████████| 50000/50000 [01:08<00:00, 730.92it/s]\n"
     ]
    },
    {
     "name": "stdout",
     "output_type": "stream",
     "text": [
      "Alpha: 0.8499999999999999\n",
      "Sigma: 1.2\n"
     ]
    },
    {
     "name": "stderr",
     "output_type": "stream",
     "text": [
      "100%|██████████| 50000/50000 [01:07<00:00, 736.71it/s]\n"
     ]
    },
    {
     "name": "stdout",
     "output_type": "stream",
     "text": [
      "Alpha: 0.9199999999999999\n",
      "Sigma: 1.2\n"
     ]
    },
    {
     "name": "stderr",
     "output_type": "stream",
     "text": [
      "100%|██████████| 50000/50000 [01:08<00:00, 729.50it/s]\n"
     ]
    },
    {
     "name": "stdout",
     "output_type": "stream",
     "text": [
      "Alpha: 0.99\n",
      "Sigma: 1.2\n"
     ]
    },
    {
     "name": "stderr",
     "output_type": "stream",
     "text": [
      "100%|██████████| 50000/50000 [01:08<00:00, 734.90it/s]\n"
     ]
    },
    {
     "name": "stdout",
     "output_type": "stream",
     "text": [
      "Alpha: 0.01\n",
      "Sigma: 1.5\n"
     ]
    },
    {
     "name": "stderr",
     "output_type": "stream",
     "text": [
      "100%|██████████| 50000/50000 [01:07<00:00, 736.92it/s]\n"
     ]
    },
    {
     "name": "stdout",
     "output_type": "stream",
     "text": [
      "Alpha: 0.08\n",
      "Sigma: 1.5\n"
     ]
    },
    {
     "name": "stderr",
     "output_type": "stream",
     "text": [
      "100%|██████████| 50000/50000 [01:08<00:00, 733.15it/s]\n"
     ]
    },
    {
     "name": "stdout",
     "output_type": "stream",
     "text": [
      "Alpha: 0.15\n",
      "Sigma: 1.5\n"
     ]
    },
    {
     "name": "stderr",
     "output_type": "stream",
     "text": [
      "100%|██████████| 50000/50000 [01:07<00:00, 740.77it/s]\n"
     ]
    },
    {
     "name": "stdout",
     "output_type": "stream",
     "text": [
      "Alpha: 0.21999999999999997\n",
      "Sigma: 1.5\n"
     ]
    },
    {
     "name": "stderr",
     "output_type": "stream",
     "text": [
      "100%|██████████| 50000/50000 [01:08<00:00, 733.00it/s]\n"
     ]
    },
    {
     "name": "stdout",
     "output_type": "stream",
     "text": [
      "Alpha: 0.29\n",
      "Sigma: 1.5\n"
     ]
    },
    {
     "name": "stderr",
     "output_type": "stream",
     "text": [
      "100%|██████████| 50000/50000 [01:07<00:00, 739.30it/s]\n"
     ]
    },
    {
     "name": "stdout",
     "output_type": "stream",
     "text": [
      "Alpha: 0.36\n",
      "Sigma: 1.5\n"
     ]
    },
    {
     "name": "stderr",
     "output_type": "stream",
     "text": [
      "100%|██████████| 50000/50000 [01:08<00:00, 732.42it/s]\n"
     ]
    },
    {
     "name": "stdout",
     "output_type": "stream",
     "text": [
      "Alpha: 0.42999999999999994\n",
      "Sigma: 1.5\n"
     ]
    },
    {
     "name": "stderr",
     "output_type": "stream",
     "text": [
      "100%|██████████| 50000/50000 [01:07<00:00, 739.69it/s]\n"
     ]
    },
    {
     "name": "stdout",
     "output_type": "stream",
     "text": [
      "Alpha: 0.49999999999999994\n",
      "Sigma: 1.5\n"
     ]
    },
    {
     "name": "stderr",
     "output_type": "stream",
     "text": [
      "100%|██████████| 50000/50000 [01:07<00:00, 738.02it/s]\n"
     ]
    },
    {
     "name": "stdout",
     "output_type": "stream",
     "text": [
      "Alpha: 0.57\n",
      "Sigma: 1.5\n"
     ]
    },
    {
     "name": "stderr",
     "output_type": "stream",
     "text": [
      "100%|██████████| 50000/50000 [01:07<00:00, 738.84it/s]\n"
     ]
    },
    {
     "name": "stdout",
     "output_type": "stream",
     "text": [
      "Alpha: 0.6399999999999999\n",
      "Sigma: 1.5\n"
     ]
    },
    {
     "name": "stderr",
     "output_type": "stream",
     "text": [
      "100%|██████████| 50000/50000 [01:07<00:00, 742.00it/s]\n"
     ]
    },
    {
     "name": "stdout",
     "output_type": "stream",
     "text": [
      "Alpha: 0.71\n",
      "Sigma: 1.5\n"
     ]
    },
    {
     "name": "stderr",
     "output_type": "stream",
     "text": [
      "100%|██████████| 50000/50000 [01:08<00:00, 732.02it/s]\n"
     ]
    },
    {
     "name": "stdout",
     "output_type": "stream",
     "text": [
      "Alpha: 0.7799999999999999\n",
      "Sigma: 1.5\n"
     ]
    },
    {
     "name": "stderr",
     "output_type": "stream",
     "text": [
      "100%|██████████| 50000/50000 [01:07<00:00, 737.70it/s]\n"
     ]
    },
    {
     "name": "stdout",
     "output_type": "stream",
     "text": [
      "Alpha: 0.8499999999999999\n",
      "Sigma: 1.5\n"
     ]
    },
    {
     "name": "stderr",
     "output_type": "stream",
     "text": [
      "100%|██████████| 50000/50000 [01:08<00:00, 733.07it/s]\n"
     ]
    },
    {
     "name": "stdout",
     "output_type": "stream",
     "text": [
      "Alpha: 0.9199999999999999\n",
      "Sigma: 1.5\n"
     ]
    },
    {
     "name": "stderr",
     "output_type": "stream",
     "text": [
      "100%|██████████| 50000/50000 [01:07<00:00, 736.93it/s]\n"
     ]
    },
    {
     "name": "stdout",
     "output_type": "stream",
     "text": [
      "Alpha: 0.99\n",
      "Sigma: 1.5\n"
     ]
    },
    {
     "name": "stderr",
     "output_type": "stream",
     "text": [
      "100%|██████████| 50000/50000 [01:08<00:00, 730.97it/s]\n"
     ]
    }
   ],
   "source": [
    "# FF Grid search\n",
    "\n",
    "# alphas = inverse_transform_sampling(lambda x: (1-x)/x + x/(1-x), 32)\n",
    "# alphas = inverse_transform_sampling(lambda x: np.ones(len(x)), 11)\n",
    "# sigmas = [0.4, 0.7, 1.0, 1.2, 1.5]\n",
    "alphas = inverse_transform_sampling(lambda x: np.ones(len(x)), 15)\n",
    "sigmas = [0.6, 0.8, 1.0, 1.2, 1.5]\n",
    "\n",
    "# alphas = np.linspace(0.85, 0.94, 100)\n",
    "# alphas = 1-np.geomspace(0.001,1,30)\n",
    "grid_scores = np.zeros((len(sigmas), len(alphas), ng))\n",
    "grid_spacings = np.zeros((len(sigmas), len(alphas)))\n",
    "s_count = 0\n",
    "for sigma in sigmas:\n",
    "    a_count = 0\n",
    "    for alpha in alphas:\n",
    "        print(f'Alpha: {alpha}')\n",
    "        print(f'Sigma: {sigma}')\n",
    "        model = FFGC(alpha = alpha, sigma = sigma, norm = \"l1\")\n",
    "        # model = RNNGC(ng = ng, alpha = alpha, norm = \"l2\")\n",
    "        model.to(device)\n",
    "        optimizer = torch.optim.Adam(model.parameters(), lr = 1e-3)\n",
    "        # Train model\n",
    "        for i in tqdm(range(train_steps-len(model.total_loss_history))):\n",
    "            r = torch.rand((bs, 2), device = device)*4*np.pi - 2*np.pi\n",
    "            loss = model.train_step(inputs = r, labels = r, optimizer = optimizer)\n",
    "\n",
    "        # Plot loss history\n",
    "        # fig,axs = plt.subplots(1,3,figsize=(9,3))\n",
    "        # axs[0].semilogy(np.array(model.total_loss_history)-model.loss_minima(), label = 'Total loss', color = 'black')\n",
    "        # axs[1].semilogy(np.array(model.capacity_loss_history)-model.loss_minima(), label = 'Capacity loss', color = 'red')\n",
    "        # axs[2].semilogy(model.similarity_loss_history, label = 'Similarity loss', color = 'blue')\n",
    "        # fig.tight_layout()\n",
    "        # fig.legend()\n",
    "        # plt.savefig(f'./gridsearch/ffgc_loss_alpha_{alpha}.png')\n",
    "        # plt.close()\n",
    "\n",
    "        # evaluate on 64x64 grid\n",
    "        res = 128\n",
    "        x = np.linspace(-1, 1, res)*2*np.pi\n",
    "        y = np.linspace(-1, 1, res)*2*np.pi\n",
    "        xx, yy = np.meshgrid(x,y)\n",
    "        r = np.stack([xx.ravel(), yy.ravel()], axis = -1)\n",
    "        gs = model(torch.tensor(r.astype(\"float32\"),device = device))\n",
    "        gs = gs.detach().cpu().numpy()\n",
    "        gs = gs.T.reshape(-1,res,res)\n",
    "\n",
    "        # plot spatial map\n",
    "        # multiimshow(gs[:25], figsize=(10,10), normalize=False);\n",
    "        # plt.tight_layout()\n",
    "        # plt.savefig(f'./gridsearch/ffgc_spatial_map_alpha_{alpha}.png')\n",
    "        # plt.close()\n",
    "\n",
    "        # Gridscore\n",
    "        grid_score = np.array([sm.gridness(gs[i]) for i in range(len(gs))])\n",
    "        grid_scores[np.isnan(grid_scores)] = 0\n",
    "        grid_scores[s_count, a_count] = grid_score\n",
    "\n",
    "        acorrs = np.array([sm.autocorrelation(g) for g in gs])\n",
    "        acorrs = acorrs[grid_score > 0.5]\n",
    "        gs = gs[grid_score > 0.5]\n",
    "        peaks = [sm.find_peaks(acorr) for acorr in acorrs]\n",
    "        spacings = np.array([sm.spacing_and_orientation(peak, acorrs.shape[-1])[0] for peak in peaks])\n",
    "        # Ignore nans in spacings\n",
    "        spacings = spacings[~np.isnan(spacings)]\n",
    "        grid_spacings[s_count, a_count] = np.mean(spacings)\n",
    "\n",
    "        a_count += 1\n",
    "    s_count += 1\n",
    "\n",
    "# Save grid scores\n",
    "np.save('./gridsearch/ffgc_grid_scores.npy', grid_scores)\n",
    "np.save('./gridsearch/ffgc_grid_spacings.npy', grid_spacings)\n",
    "np.save('./gridsearch/ffgc_grid_search_alphas.npy', alphas)\n",
    "np.save('./gridsearch/ffgc_grid_search_sigmas.npy', sigmas)"
   ]
  },
  {
   "cell_type": "code",
   "execution_count": 7,
   "metadata": {},
   "outputs": [
    {
     "name": "stdout",
     "output_type": "stream",
     "text": [
      "Alpha: 0.001\n"
     ]
    },
    {
     "name": "stderr",
     "output_type": "stream",
     "text": [
      "  6%|▌         | 3/50 [00:00<00:01, 27.47it/s]"
     ]
    },
    {
     "name": "stderr",
     "output_type": "stream",
     "text": [
      "100%|██████████| 50/50 [00:01<00:00, 30.74it/s]\n"
     ]
    },
    {
     "name": "stdout",
     "output_type": "stream",
     "text": [
      "Alpha: 0.5000000000000029\n"
     ]
    },
    {
     "name": "stderr",
     "output_type": "stream",
     "text": [
      "100%|██████████| 50/50 [00:01<00:00, 30.86it/s]\n"
     ]
    },
    {
     "name": "stdout",
     "output_type": "stream",
     "text": [
      "Alpha: 0.999\n"
     ]
    },
    {
     "name": "stderr",
     "output_type": "stream",
     "text": [
      "100%|██████████| 50/50 [00:01<00:00, 31.56it/s]\n"
     ]
    },
    {
     "name": "stdout",
     "output_type": "stream",
     "text": [
      "Alpha: 0.001\n"
     ]
    },
    {
     "name": "stderr",
     "output_type": "stream",
     "text": [
      "100%|██████████| 50/50 [00:01<00:00, 31.32it/s]\n"
     ]
    },
    {
     "name": "stdout",
     "output_type": "stream",
     "text": [
      "Alpha: 0.5000000000000029\n"
     ]
    },
    {
     "name": "stderr",
     "output_type": "stream",
     "text": [
      "100%|██████████| 50/50 [00:01<00:00, 31.27it/s]\n"
     ]
    },
    {
     "name": "stdout",
     "output_type": "stream",
     "text": [
      "Alpha: 0.999\n"
     ]
    },
    {
     "name": "stderr",
     "output_type": "stream",
     "text": [
      "100%|██████████| 50/50 [00:01<00:00, 31.97it/s]\n"
     ]
    }
   ],
   "source": [
    "# RNN Gridsearch\n",
    "\n",
    "alphas = inverse_transform_sampling(lambda x: (1-x)/x + x/(1-x), 3)\n",
    "\n",
    "dataset = DatasetMaker()\n",
    "\n",
    "for norm in [\"l1\", \"l2\"]:\n",
    "    grid_scores = []\n",
    "    for alpha in alphas:\n",
    "        print(f'Alpha: {alpha}')\n",
    "        model = RNNGC(ng = ng, alpha = alpha, norm = norm)\n",
    "        model.to(device)\n",
    "        optimizer = torch.optim.Adam(model.parameters(), lr = 1e-3)\n",
    "        # Train model\n",
    "        for i in tqdm(range(train_steps-len(model.total_loss_history))):\n",
    "            r, v = dataset.generate_data(bs, timesteps, device)\n",
    "            loss = model.train_step(inputs = (r[:,0], v), labels = r, optimizer = optimizer)\n",
    "\n",
    "        # evaluate on 64x64 grid\n",
    "        r, v = dataset.generate_data(20000, timesteps, device)\n",
    "        g = model((r[:,0], v))\n",
    "\n",
    "        r = r.detach().cpu().numpy()\n",
    "        g = g.detach().cpu().numpy()\n",
    "        ratemaps = scipy.stats.binned_statistic_2d(r[...,0].ravel(), r[...,1].ravel(), g.reshape(-1, g.shape[-1]).T, bins = 64)[0]\n",
    "\n",
    "        # Gridscore\n",
    "        grid_score = np.array([sm.gridness(ratemaps[i]) for i in range(len(ratemaps))])\n",
    "        grid_scores.append(grid_score)\n",
    "\n",
    "        model.save(path=f\"./saved-models/{model.__class__.__name__}_{alpha}_{norm}.pkl\")\n",
    "\n",
    "    # Save grid scores\n",
    "    grid_scores = np.array(grid_scores)\n",
    "    np.save(f'./gridsearch/rnngc_grid_scores_{norm}.npy', grid_scores)\n",
    "    np.save(f'./gridsearch/rnnc_grid_scores_alphas_{norm}.npy', alphas)"
   ]
  },
  {
   "cell_type": "code",
   "execution_count": 20,
   "metadata": {},
   "outputs": [
    {
     "data": {
      "text/plain": [
       "array([59.12930838, 66.58780146, 71.73474137, 53.17970797,         nan,\n",
       "               nan,         nan,         nan,         nan,         nan,\n",
       "               nan,         nan,         nan,         nan,         nan])"
      ]
     },
     "execution_count": 20,
     "metadata": {},
     "output_type": "execute_result"
    }
   ],
   "source": [
    "np.load('./gridsearch/ffgc_grid_spacings.npy')[4]\n",
    "# np.load('./gridsearch/ffgc_grid_search_sigmas.npy')"
   ]
  },
  {
   "cell_type": "code",
   "execution_count": 221,
   "metadata": {},
   "outputs": [
    {
     "data": {
      "text/plain": [
       "(5,)"
      ]
     },
     "execution_count": 221,
     "metadata": {},
     "output_type": "execute_result"
    }
   ],
   "source": []
  },
  {
   "cell_type": "code",
   "execution_count": 257,
   "metadata": {},
   "outputs": [
    {
     "name": "stdout",
     "output_type": "stream",
     "text": [
      "(15,)\n"
     ]
    },
    {
     "data": {
      "image/png": "[encoded data removed]",
      "text/plain": [
       "<Figure size 900x600 with 1 Axes>"
      ]
     },
     "metadata": {},
     "output_type": "display_data"
    }
   ],
   "source": [
    "# NaNs to zeors\n",
    "\n",
    "grid_scores = np.load('./gridsearch/ffgc_grid_scores.npy')\n",
    "grid_spacings = np.load('./gridsearch/ffgc_grid_spacings.npy')\n",
    "alphas = np.load('./gridsearch/ffgc_grid_search_alphas.npy')\n",
    "sigmas = np.load('./gridsearch/ffgc_grid_search_sigmas.npy')\n",
    "\n",
    "grid_scores[np.isnan(grid_scores)] = 0\n",
    "grid_scores_binned = []\n",
    "\n",
    "\n",
    "\n",
    "gs_means = np.mean(grid_scores, axis = 2)\n",
    "gs_meadians = np.median(grid_scores, axis = 2)\n",
    "\n",
    "\n",
    "# mode on 30 bins\n",
    "i_plot = 0\n",
    "\n",
    "grid_scores_i = grid_scores[i_plot]\n",
    "\n",
    "gs_modes = np.zeros(len(grid_scores_i))\n",
    "\n",
    "for i in range(len(grid_scores_i)):\n",
    "    grid_scores_binned.append(np.histogram(grid_scores_i[i], bins = 100))\n",
    "    gs_modes[i] = grid_scores_binned[i][1][np.argmax(grid_scores_binned[i][0])]\n",
    "\n",
    "\n",
    "print(gs_modes.shape)\n",
    "\n",
    "plt.figure(figsize=(3,2))\n",
    "plt.plot(alphas, gs_means[i_plot], label = 'Mean')\n",
    "plt.plot(alphas, gs_meadians[i_plot], label = 'Median')\n",
    "plt.plot(alphas, gs_modes, label = 'Mode')\n",
    "plt.xlabel('Alpha')\n",
    "plt.ylabel('Grid score')\n",
    "plt.legend()\n",
    "# plt.savefig('./gridsearch/ffgc_grid_scores.png')\n",
    "plt.show()"
   ]
  },
  {
   "cell_type": "code",
   "execution_count": 268,
   "metadata": {},
   "outputs": [
    {
     "data": {
      "text/plain": [
       "array([6, 9, 4, 3, 2], dtype=int64)"
      ]
     },
     "execution_count": 268,
     "metadata": {},
     "output_type": "execute_result"
    }
   ],
   "source": [
    "np.argmax(gs_means, axis = 1)"
   ]
  },
  {
   "cell_type": "code",
   "execution_count": 267,
   "metadata": {},
   "outputs": [
    {
     "data": {
      "text/plain": [
       "(15,)"
      ]
     },
     "execution_count": 267,
     "metadata": {},
     "output_type": "execute_result"
    }
   ],
   "source": [
    "grid_spacings.shaape"
   ]
  },
  {
   "cell_type": "code",
   "execution_count": 272,
   "metadata": {},
   "outputs": [
    {
     "name": "stdout",
     "output_type": "stream",
     "text": [
      "Mode alpha max: 0.42999999999999994\n",
      "Mean alpha max: [0.43 0.64 0.29 0.22 0.15]\n",
      "Median alpha max: [0.43 0.64 0.36 0.22 0.15]\n"
     ]
    },
    {
     "data": {
      "text/plain": [
       "[20.3480466814482,\n",
       " 41.274423490817,\n",
       " 50.971076800387095,\n",
       " 59.280892607529466,\n",
       " 71.7347413656662]"
      ]
     },
     "execution_count": 272,
     "metadata": {},
     "output_type": "execute_result"
    }
   ],
   "source": [
    "mode_max = alphas[np.argmax(gs_modes)]\n",
    "mean_max = alphas[np.argmax(gs_means, axis = 1)]\n",
    "median_max = alphas[np.argmax(gs_meadians, axis = 1)]\n",
    "print(f'Mode alpha max: {mode_max}')\n",
    "print(f'Mean alpha max: {mean_max}')\n",
    "print(f'Median alpha max: {median_max}')\n",
    "\n",
    "gridscales_at_best = []\n",
    "for i in range(len(sigmas)):\n",
    "    # Gridscale at max mean gridscore\n",
    "    g_scale_best = grid_spacings[i][np.argmax(gs_means, axis = 1)[i]]\n",
    "    gridscales_at_best.append(g_scale_best)\n",
    "\n",
    "gridscales_at_best"
   ]
  },
  {
   "cell_type": "code",
   "execution_count": 300,
   "metadata": {},
   "outputs": [
    {
     "data": {
      "text/plain": [
       "Text(-0.1, 2.5, 'Gridscore')"
      ]
     },
     "execution_count": 300,
     "metadata": {},
     "output_type": "execute_result"
    },
    {
     "data": {
      "image/png": "[encoded data removed]",
      "text/plain": [
       "<Figure size 2100x1500 with 5 Axes>"
      ]
     },
     "metadata": {},
     "output_type": "display_data"
    }
   ],
   "source": [
    "# Create the data\n",
    "\n",
    "grid_scores = np.load('./gridsearch/ffgc_grid_scores.npy')\n",
    "grid_spacings = np.load('./gridsearch/ffgc_grid_spacings.npy')\n",
    "alphas = np.load('./gridsearch/ffgc_grid_search_alphas.npy')\n",
    "sigmas = np.load('./gridsearch/ffgc_grid_search_sigmas.npy')\n",
    "\n",
    "grid_scores_means = np.mean(grid_scores, axis = 2)\n",
    "\n",
    "n_plots = len(sigmas)\n",
    "\n",
    "# x = rs.randn(500)\n",
    "x = grid_scores_means.T.flatten()\n",
    "g = np.tile([r\"$\\sigma = $\" + str(sigmas[i]) + \", scale: \" + str(f\"{gridscales_at_best[i]:.0f}\") for i in range(len(sigmas))], len(alphas))\n",
    "alphas_plot = np.repeat(alphas, len(sigmas))\n",
    "df = pd.DataFrame(dict(x=x, g=g, alpha=alphas_plot))\n",
    "\n",
    "\n",
    "\n",
    "\n",
    "# Initialize the FacetGrid object\n",
    "g = sns.FacetGrid(df, row=\"g\", hue=\"g\", aspect=7, height=1)\n",
    "\n",
    "# Draw the densities in a few steps\n",
    "\n",
    "# Colored plot\n",
    "# g.map_dataframe(sns.kdeplot, \"x\",\n",
    "#       bw_adjust=.5, clip_on=False,\n",
    "#       fill=True, alpha=1, linewidth=1.5)\n",
    "\n",
    "# Plot \n",
    "g.map(sns.lineplot, \"alpha\", \"x\", alpha=1, linewidth=1.5, err_kws={'alpha':0})\n",
    "\n",
    "# Create coloured axes\n",
    "g.refline(y=0, linewidth=2, linestyle=\"-\", color=None, clip_on=False)\n",
    "\n",
    "\n",
    "# Define and use a simple function to label the plot in axes coordinates\n",
    "def label(x, color, label):\n",
    "    ax = plt.gca()\n",
    "    # label = r\"\\sigma\" + f\"{label:.2f}\"\n",
    "    ax.text(0, 0.2, label, fontweight=\"bold\", color=color,\n",
    "            ha=\"left\", va=\"center\", transform=ax.transAxes)\n",
    "\n",
    "\n",
    "g.map(label, \"x\")\n",
    "\n",
    "# Set the subplots to overlap\n",
    "g.figure.subplots_adjust(hspace=-.25)\n",
    "\n",
    "# Remove axes details that don't play well with overlap\n",
    "g.set_titles(\"\")\n",
    "g.set(yticks=[0], ylabel=\"\", xlabel=r\"$\\alpha$\")\n",
    "g.despine(bottom=True, left=True)\n",
    "ax = plt.gca()\n",
    "ax.text(-0.1, 2.5, 'Gridscore', va='center', rotation='vertical', fontweight='bold')"
   ]
  }
 ],
 "metadata": {
  "kernelspec": {
   "display_name": "env",
   "language": "python",
   "name": "python3"
  },
  "language_info": {
   "codemirror_mode": {
    "name": "ipython",
    "version": 3
   },
   "file_extension": ".py",
   "mimetype": "text/x-python",
   "name": "python",
   "nbconvert_exporter": "python",
   "pygments_lexer": "ipython3",
   "version": "3.10.13"
  }
 },
 "nbformat": 4,
 "nbformat_minor": 2
}
