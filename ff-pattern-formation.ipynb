{
 "cells": [
  {
   "cell_type": "code",
   "execution_count": 1,
   "metadata": {},
   "outputs": [],
   "source": [
    "%load_ext autoreload\n",
    "%autoreload 2\n",
    "#%matplotlib widget"
   ]
  },
  {
   "cell_type": "code",
   "execution_count": 2,
   "metadata": {},
   "outputs": [],
   "source": [
    "import torch\n",
    "import numpy as np \n",
    "import matplotlib.pyplot as plt\n",
    "import copy\n",
    "\n",
    "from tqdm import tqdm\n",
    "from models import FFGC\n",
    "from plotting_functions import *"
   ]
  },
  {
   "cell_type": "code",
   "execution_count": 3,
   "metadata": {},
   "outputs": [],
   "source": [
    "model = FFGC()"
   ]
  },
  {
   "cell_type": "code",
   "execution_count": 4,
   "metadata": {},
   "outputs": [
    {
     "name": "stdout",
     "output_type": "stream",
     "text": [
      "Sequential(\n",
      "  (0): Linear(in_features=2, out_features=64, bias=True)\n",
      "  (1): ReLU()\n",
      ")\n",
      "Pattern formation of output unit 3 in layer 0\n"
     ]
    },
    {
     "name": "stderr",
     "output_type": "stream",
     "text": [
      "  0%|          | 0/100 [00:00<?, ?it/s]\n"
     ]
    }
   ],
   "source": [
    "model_names = model.get_model_list()\n",
    "model = model.load(model_names[-1]) # load the last model\n",
    "layer = -1 # valid values are (-1, 1, 3, full)\n",
    "output_unit = 'automatic'\n",
    "if output_unit == 'automatic':\n",
    "    ratemaps, sort_idxs_next = model.forward_ratemaps(layer=layer+2, output_unit=None, sort_idxs=None, res=32)\n",
    "    output_unit = sort_idxs_next[0]\n",
    "cumsum = False\n",
    "# get the sort_idxs from the last model\n",
    "ratemaps, sort_idxs = model.forward_ratemaps(layer=layer, output_unit=output_unit, sort_idxs=None, res=32)\n",
    "# plot the ratemaps\n",
    "ratemaps = np.cumsum(ratemaps, axis=0) if cumsum else ratemaps\n",
    "fig, _, _ = multiimshow(ratemaps, figsize=(10,10), cmap='seismic', vrange='symmetric')\n",
    "# create a folder to save the results\n",
    "import os\n",
    "path = f'./results/layer={layer}_unit={output_unit}' + ('_cumsum' if cumsum else '')\n",
    "if not os.path.exists(path):\n",
    "    os.makedirs(path)\n",
    "fig.savefig(path + f'/{model.name()}.png', bbox_inches='tight')\n",
    "plt.close('all')\n",
    "\n",
    "import gc\n",
    "for model_name in tqdm(model_names):\n",
    "    break\n",
    "    model = model.load(model_name)\n",
    "    # skip saving fig if it already exists\n",
    "    if os.path.exists(path + f'/{model.name()}.png'):\n",
    "        continue\n",
    "    ratemaps, _ = model.forward_ratemaps(layer=layer, output_unit=output_unit, sort_idxs=sort_idxs, res=32, verbose=False)\n",
    "    ratemaps = np.cumsum(ratemaps, axis=0) if cumsum else ratemaps\n",
    "    fig, _, _ = multiimshow(ratemaps, figsize=(10,10), cmap='seismic', vrange='symmetric')\n",
    "    fig.savefig(path + f'/{model.name()}.png', bbox_inches='tight')\n",
    "    plt.close('all')\n",
    "    gc.collect()"
   ]
  },
  {
   "cell_type": "code",
   "execution_count": null,
   "metadata": {},
   "outputs": [],
   "source": []
  }
 ],
 "metadata": {
  "kernelspec": {
   "display_name": "ml",
   "language": "python",
   "name": "python3"
  },
  "language_info": {
   "codemirror_mode": {
    "name": "ipython",
    "version": 3
   },
   "file_extension": ".py",
   "mimetype": "text/x-python",
   "name": "python",
   "nbconvert_exporter": "python",
   "pygments_lexer": "ipython3",
   "version": "3.9.9"
  }
 },
 "nbformat": 4,
 "nbformat_minor": 2
}
