{
 "cells": [
  {
   "cell_type": "code",
   "execution_count": 1,
   "metadata": {},
   "outputs": [],
   "source": [
    "%load_ext autoreload\n",
    "%autoreload 2\n",
    "#%matplotlib widget"
   ]
  },
  {
   "cell_type": "code",
   "execution_count": 2,
   "metadata": {},
   "outputs": [],
   "source": [
    "import torch\n",
    "import numpy as np \n",
    "import matplotlib.pyplot as plt\n",
    "import copy\n",
    "\n",
    "from tqdm import tqdm\n",
    "from models import FFGC\n",
    "from plotting_functions import *"
   ]
  },
  {
   "cell_type": "code",
   "execution_count": 3,
   "metadata": {},
   "outputs": [],
   "source": [
    "model = FFGC()"
   ]
  },
  {
   "cell_type": "code",
   "execution_count": 28,
   "metadata": {},
   "outputs": [],
   "source": [
    "import re \n",
    "\n",
    "# Custom sorting function to extract and convert the ending number to an integer\n",
    "def sort_by_number(filename):\n",
    "    numbers = re.findall(r'\\d+', filename)\n",
    "    if numbers:\n",
    "        return int(numbers[-1])  # Convert the last found number to int (assuming it's the relevant one)\n",
    "    return 0  # Default to 0 if no number is found"
   ]
  },
  {
   "cell_type": "code",
   "execution_count": 35,
   "metadata": {},
   "outputs": [],
   "source": [
    "layer=-1\n",
    "output_unit=0\n",
    "path = f'./results/layer={layer}_unit={output_unit}'\n",
    "\n",
    "# create gif from .png files\n",
    "import imageio\n",
    "import os\n",
    "images = []\n",
    "filenames = [f'{path}/{filename}' for filename in os.listdir(path) if filename.endswith('.png')]\n",
    "filenames = sorted(filenames, key=sort_by_number)\n",
    "for filename in filenames:\n",
    "    if filename.endswith('.png'):\n",
    "        images.append(imageio.imread(filename))\n",
    "imageio.mimsave(f'{path}/layer={layer}_unit={output_unit}.gif', images, fps=5)"
   ]
  },
  {
   "cell_type": "code",
   "execution_count": null,
   "metadata": {},
   "outputs": [],
   "source": []
  }
 ],
 "metadata": {
  "kernelspec": {
   "display_name": "ml",
   "language": "python",
   "name": "python3"
  },
  "language_info": {
   "codemirror_mode": {
    "name": "ipython",
    "version": 3
   },
   "file_extension": ".py",
   "mimetype": "text/x-python",
   "name": "python",
   "nbconvert_exporter": "python",
   "pygments_lexer": "ipython3",
   "version": "3.9.9"
  }
 },
 "nbformat": 4,
 "nbformat_minor": 2
}
